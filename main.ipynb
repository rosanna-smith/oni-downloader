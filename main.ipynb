{
 "cells": [
  {
   "cell_type": "markdown",
   "id": "a7bff1f9-6da4-41f5-81d0-48f0ddafb90b",
   "metadata": {},
   "source": [
    "# Downloading Collection Data and RO-Crate Metadata File using the Oni API\n",
    "\n",
    "The Language Data Commons of Australia (LDaCA) packages data collections in an [ro-crate](https://www.researchobject.org/ro-crate/). There is a metadata file called `ro-crate-metadata.json` that comes with every data collection and this is how we can obtain metadata on this collection of research objects.\n",
    "\n",
    "This notebook allows you to specify a collection from the <a href='https://data.ldaca.edu.au/'>LDaCA Portal</a>, and the files and metadata associated with that collection will be downloaded and zipped.\n",
    "\n",
    "Still to do:\n",
    "- specify a subset of files to download"
   ]
  },
  {
   "cell_type": "markdown",
   "id": "8fd441a1-f2dd-43fd-838a-f2c2467ac919",
   "metadata": {},
   "source": [
    "## Install the basic requirements needed"
   ]
  },
  {
   "cell_type": "code",
   "execution_count": 1,
   "id": "e39f8f37-f487-4a7a-9bbc-187b867aafd9",
   "metadata": {},
   "outputs": [],
   "source": [
    "%%capture\n",
    "import sys\n",
    "!{sys.executable} -m pip install -r requirements.txt"
   ]
  },
  {
   "cell_type": "markdown",
   "id": "45f83793-f4ae-4fac-b713-ba5df9f1c325",
   "metadata": {},
   "source": [
    "## Import libraries\n",
    "\n",
    "Python needs the libraries that will be used by the notebook to be specified before they are used. We do this with the reserved word `import`, as shown below."
   ]
  },
  {
   "cell_type": "code",
   "execution_count": 2,
   "id": "b65751d3-74c4-4e60-8138-85eb1bf5a694",
   "metadata": {},
   "outputs": [],
   "source": [
    "from ldaca.ldaca import LDaCA     # Loads the LDaCA ReST API wrapper\n",
    "from dotenv import load_dotenv    # Parses a .env file and then loads all the variables found as environment variables\n",
    "import os                         # Loads operating system libraries\n",
    "import shutil                     # Utility functions for copying and archiving files and directory trees"
   ]
  },
  {
   "cell_type": "markdown",
   "id": "d756362e-6aed-43e1-a60c-6a181a73143d",
   "metadata": {},
   "source": [
    "## Variables \n",
    "\n",
    "We need to specify the path to the data collection for download, as well as the LDaCA API and require the user's API token.\n",
    "\n",
    "In the vars.env file, you will need to store your API_KEY and COLLECTION. These will be required for downloading any files.\n",
    "\n",
    "To get an API key:\n",
    "- Login to <a href='https://data.ldaca.edu.au/'>LDaCA Portal</a>\n",
    "- Under your name, select <i>User Information</i>\n",
    "- Under API Key, select <i>Generate</i>\n",
    "\n",
    "To get a COLLECTION ID:\n",
    "- Go to <a href='https://data.ldaca.edu.au/'>LDaCA Portal</a>\n",
    "- Select the collection you want to download data from\n",
    "- Copy the <i>@id</i> URL starting with <i>arcp://</i>\n",
    "\n",
    "Example vars.env:\n",
    "\n",
    "API_KEY=12345\n",
    "\n",
    "COLLECTION='arcp://name,doi10.4225%2F35%2F555d661071c76'"
   ]
  },
  {
   "cell_type": "code",
   "execution_count": 3,
   "id": "593683f4-eb42-482a-bbf4-9019c05dc6ca",
   "metadata": {},
   "outputs": [
    {
     "name": "stdout",
     "output_type": "stream",
     "text": [
      "URL: https://data.ldaca.edu.au/api, COLLECTION: arcp://name,doi10.4225%2F35%2F555d661071c76\n"
     ]
    }
   ],
   "source": [
    "load_dotenv('vars.env')                         # Loads the environment variables located in the vars.env file\n",
    "API_TOKEN = os.getenv('API_KEY')                # Specifies the user's API token\n",
    "URL = 'https://data.ldaca.edu.au/api'           # Specifies the location of the LDaCA API\n",
    "COLLECTION = os.getenv('COLLECTION')            # Specifies the location of the collection\n",
    "print(f\"URL: {URL}, COLLECTION: {COLLECTION}\")  # Prints the URL of the LDaCA API and specified collection for download"
   ]
  },
  {
   "cell_type": "markdown",
   "id": "d9cd0c21-5a81-449e-9483-3965eeb2221a",
   "metadata": {},
   "source": [
    "## Configure the LDaCA ReST API wrapper\n",
    "\n",
    "We need to configure an instance of the class `LDaCA` by providing it with the URL, API token, data directory, collection and type of collection."
   ]
  },
  {
   "cell_type": "code",
   "execution_count": 4,
   "id": "57566bb4-1263-449a-9e55-53186029550b",
   "metadata": {},
   "outputs": [],
   "source": [
    "data_dir = 'oni_data'                                       # Creates the variable for the directory where data will be downloaded\n",
    "ldaca = LDaCA(url=URL, token=API_TOKEN, data_dir=data_dir)  # Provides the LDaCA class with the API URL, API KEY and download directory\n",
    "ldaca.set_collection(COLLECTION)                            # Specifies the collection for the LDaCA class\n",
    "ldaca.set_collection_type('Collection')                     # Specifies the type of collection for the LDaCA class"
   ]
  },
  {
   "cell_type": "markdown",
   "id": "865b3357-3cfd-4886-974a-f7578273d9fc",
   "metadata": {},
   "source": [
    "## Retrieve metadata\n",
    "\n",
    "The `retrieve_collection` method will fetch the metadata for the specified collection and download the related RO-Crate (`ro-crate-metadata.json`) to the selected directory (`oni_data`)."
   ]
  },
  {
   "cell_type": "code",
   "execution_count": 5,
   "id": "2c12a7e2-0d25-4c89-b7bc-dd5d536b9b4d",
   "metadata": {},
   "outputs": [],
   "source": [
    "ldaca.retrieve_collection(\n",
    "    collection=COLLECTION,            # The ID of the collection\n",
    "    collection_type='Collection',     # Can be either Collection or Object\n",
    "    data_dir=data_dir)                # Sets the data directory"
   ]
  },
  {
   "cell_type": "markdown",
   "id": "6afe7f2a-73bb-4eca-a1fb-9bed03091301",
   "metadata": {},
   "source": [
    "## Download files\n",
    "\n",
    "Now that we have the RO-Crate, we can download the files in the collection to our selected directory, filtering the objects by entity type.\n",
    "\n",
    "Once the download is complete, a message will be printed confirming this."
   ]
  },
  {
   "cell_type": "code",
   "execution_count": 6,
   "id": "ceedb0d6-87ad-4073-88cc-fd9a184ddc85",
   "metadata": {},
   "outputs": [
    {
     "ename": "TypeError",
     "evalue": "store_data() missing 1 required positional argument: 'extension'",
     "output_type": "error",
     "traceback": [
      "\u001b[0;31m---------------------------------------------------------------------------\u001b[0m",
      "\u001b[0;31mTypeError\u001b[0m                                 Traceback (most recent call last)",
      "Cell \u001b[0;32mIn[6], line 1\u001b[0m\n\u001b[0;32m----> 1\u001b[0m all_files \u001b[38;5;241m=\u001b[39m \u001b[43mldaca\u001b[49m\u001b[38;5;241;43m.\u001b[39;49m\u001b[43mstore_data\u001b[49m\u001b[43m(\u001b[49m\u001b[43mentity_type\u001b[49m\u001b[38;5;241;43m=\u001b[39;49m\u001b[38;5;124;43m'\u001b[39;49m\u001b[38;5;124;43mRepositoryObject\u001b[39;49m\u001b[38;5;124;43m'\u001b[39;49m\u001b[43m)\u001b[49m\n\u001b[1;32m      2\u001b[0m \u001b[38;5;28mprint\u001b[39m(\u001b[38;5;124mf\u001b[39m\u001b[38;5;124m\"\u001b[39m\u001b[38;5;124mFiles downloaded, zipping directory.\u001b[39m\u001b[38;5;124m\"\u001b[39m)\n",
      "\u001b[0;31mTypeError\u001b[0m: store_data() missing 1 required positional argument: 'extension'"
     ]
    }
   ],
   "source": [
    "all_files = ldaca.store_data(entity_type='RepositoryObject')\n",
    "print(f\"Files downloaded, zipping directory.\")"
   ]
  },
  {
   "cell_type": "markdown",
   "id": "f3119208-f257-47f6-b4e1-05ca6f098c13",
   "metadata": {},
   "source": [
    "## Zip the downloaded data\n",
    "\n",
    "To create an archive file of the downloaded data, we use the `make_archive` function.\n",
    "\n",
    "- `base_name` is the name of the archive file to create.\n",
    "- `format` is the archive format, e.g. zip, tar, etc.\n",
    "- `root_dir` is the directory that will be the root directory of the archive."
   ]
  },
  {
   "cell_type": "code",
   "execution_count": null,
   "id": "998e02a3-a65b-45a0-ac49-8388f6df8285",
   "metadata": {},
   "outputs": [],
   "source": [
    "shutil.make_archive(base_name=data_dir, format='zip', root_dir=data_dir)"
   ]
  }
 ],
 "metadata": {
  "kernelspec": {
   "display_name": "Python 3 (ipykernel)",
   "language": "python",
   "name": "python3"
  },
  "language_info": {
   "codemirror_mode": {
    "name": "ipython",
    "version": 3
   },
   "file_extension": ".py",
   "mimetype": "text/x-python",
   "name": "python",
   "nbconvert_exporter": "python",
   "pygments_lexer": "ipython3",
   "version": "3.9.6"
  }
 },
 "nbformat": 4,
 "nbformat_minor": 5
}
